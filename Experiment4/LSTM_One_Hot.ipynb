{
  "nbformat": 4,
  "nbformat_minor": 0,
  "metadata": {
    "colab": {
      "provenance": [],
      "gpuType": "T4"
    },
    "kernelspec": {
      "name": "python3",
      "display_name": "Python 3"
    },
    "language_info": {
      "name": "python"
    },
    "accelerator": "GPU"
  },
  "cells": [
    {
      "cell_type": "code",
      "execution_count": 1,
      "metadata": {
        "id": "A9uyAVL5mMmA"
      },
      "outputs": [],
      "source": [
        "import torch\n",
        "import torch.nn as nn\n",
        "import torch.optim as optim\n",
        "import numpy as np\n",
        "import pandas as pd\n",
        "import re\n",
        "from collections import Counter\n",
        "from google.colab import files"
      ]
    },
    {
      "cell_type": "code",
      "source": [
        "# Upload CSV file manually\n",
        "uploaded = files.upload()"
      ],
      "metadata": {
        "colab": {
          "base_uri": "https://localhost:8080/",
          "height": 73
        },
        "id": "1oIK5VJgmp1Y",
        "outputId": "24e662c1-302f-49c5-cc36-eb7c41d491dc"
      },
      "execution_count": 2,
      "outputs": [
        {
          "output_type": "display_data",
          "data": {
            "text/plain": [
              "<IPython.core.display.HTML object>"
            ],
            "text/html": [
              "\n",
              "     <input type=\"file\" id=\"files-383a159e-6b62-4115-982c-7d8f3a24fa98\" name=\"files[]\" multiple disabled\n",
              "        style=\"border:none\" />\n",
              "     <output id=\"result-383a159e-6b62-4115-982c-7d8f3a24fa98\">\n",
              "      Upload widget is only available when the cell has been executed in the\n",
              "      current browser session. Please rerun this cell to enable.\n",
              "      </output>\n",
              "      <script>// Copyright 2017 Google LLC\n",
              "//\n",
              "// Licensed under the Apache License, Version 2.0 (the \"License\");\n",
              "// you may not use this file except in compliance with the License.\n",
              "// You may obtain a copy of the License at\n",
              "//\n",
              "//      http://www.apache.org/licenses/LICENSE-2.0\n",
              "//\n",
              "// Unless required by applicable law or agreed to in writing, software\n",
              "// distributed under the License is distributed on an \"AS IS\" BASIS,\n",
              "// WITHOUT WARRANTIES OR CONDITIONS OF ANY KIND, either express or implied.\n",
              "// See the License for the specific language governing permissions and\n",
              "// limitations under the License.\n",
              "\n",
              "/**\n",
              " * @fileoverview Helpers for google.colab Python module.\n",
              " */\n",
              "(function(scope) {\n",
              "function span(text, styleAttributes = {}) {\n",
              "  const element = document.createElement('span');\n",
              "  element.textContent = text;\n",
              "  for (const key of Object.keys(styleAttributes)) {\n",
              "    element.style[key] = styleAttributes[key];\n",
              "  }\n",
              "  return element;\n",
              "}\n",
              "\n",
              "// Max number of bytes which will be uploaded at a time.\n",
              "const MAX_PAYLOAD_SIZE = 100 * 1024;\n",
              "\n",
              "function _uploadFiles(inputId, outputId) {\n",
              "  const steps = uploadFilesStep(inputId, outputId);\n",
              "  const outputElement = document.getElementById(outputId);\n",
              "  // Cache steps on the outputElement to make it available for the next call\n",
              "  // to uploadFilesContinue from Python.\n",
              "  outputElement.steps = steps;\n",
              "\n",
              "  return _uploadFilesContinue(outputId);\n",
              "}\n",
              "\n",
              "// This is roughly an async generator (not supported in the browser yet),\n",
              "// where there are multiple asynchronous steps and the Python side is going\n",
              "// to poll for completion of each step.\n",
              "// This uses a Promise to block the python side on completion of each step,\n",
              "// then passes the result of the previous step as the input to the next step.\n",
              "function _uploadFilesContinue(outputId) {\n",
              "  const outputElement = document.getElementById(outputId);\n",
              "  const steps = outputElement.steps;\n",
              "\n",
              "  const next = steps.next(outputElement.lastPromiseValue);\n",
              "  return Promise.resolve(next.value.promise).then((value) => {\n",
              "    // Cache the last promise value to make it available to the next\n",
              "    // step of the generator.\n",
              "    outputElement.lastPromiseValue = value;\n",
              "    return next.value.response;\n",
              "  });\n",
              "}\n",
              "\n",
              "/**\n",
              " * Generator function which is called between each async step of the upload\n",
              " * process.\n",
              " * @param {string} inputId Element ID of the input file picker element.\n",
              " * @param {string} outputId Element ID of the output display.\n",
              " * @return {!Iterable<!Object>} Iterable of next steps.\n",
              " */\n",
              "function* uploadFilesStep(inputId, outputId) {\n",
              "  const inputElement = document.getElementById(inputId);\n",
              "  inputElement.disabled = false;\n",
              "\n",
              "  const outputElement = document.getElementById(outputId);\n",
              "  outputElement.innerHTML = '';\n",
              "\n",
              "  const pickedPromise = new Promise((resolve) => {\n",
              "    inputElement.addEventListener('change', (e) => {\n",
              "      resolve(e.target.files);\n",
              "    });\n",
              "  });\n",
              "\n",
              "  const cancel = document.createElement('button');\n",
              "  inputElement.parentElement.appendChild(cancel);\n",
              "  cancel.textContent = 'Cancel upload';\n",
              "  const cancelPromise = new Promise((resolve) => {\n",
              "    cancel.onclick = () => {\n",
              "      resolve(null);\n",
              "    };\n",
              "  });\n",
              "\n",
              "  // Wait for the user to pick the files.\n",
              "  const files = yield {\n",
              "    promise: Promise.race([pickedPromise, cancelPromise]),\n",
              "    response: {\n",
              "      action: 'starting',\n",
              "    }\n",
              "  };\n",
              "\n",
              "  cancel.remove();\n",
              "\n",
              "  // Disable the input element since further picks are not allowed.\n",
              "  inputElement.disabled = true;\n",
              "\n",
              "  if (!files) {\n",
              "    return {\n",
              "      response: {\n",
              "        action: 'complete',\n",
              "      }\n",
              "    };\n",
              "  }\n",
              "\n",
              "  for (const file of files) {\n",
              "    const li = document.createElement('li');\n",
              "    li.append(span(file.name, {fontWeight: 'bold'}));\n",
              "    li.append(span(\n",
              "        `(${file.type || 'n/a'}) - ${file.size} bytes, ` +\n",
              "        `last modified: ${\n",
              "            file.lastModifiedDate ? file.lastModifiedDate.toLocaleDateString() :\n",
              "                                    'n/a'} - `));\n",
              "    const percent = span('0% done');\n",
              "    li.appendChild(percent);\n",
              "\n",
              "    outputElement.appendChild(li);\n",
              "\n",
              "    const fileDataPromise = new Promise((resolve) => {\n",
              "      const reader = new FileReader();\n",
              "      reader.onload = (e) => {\n",
              "        resolve(e.target.result);\n",
              "      };\n",
              "      reader.readAsArrayBuffer(file);\n",
              "    });\n",
              "    // Wait for the data to be ready.\n",
              "    let fileData = yield {\n",
              "      promise: fileDataPromise,\n",
              "      response: {\n",
              "        action: 'continue',\n",
              "      }\n",
              "    };\n",
              "\n",
              "    // Use a chunked sending to avoid message size limits. See b/62115660.\n",
              "    let position = 0;\n",
              "    do {\n",
              "      const length = Math.min(fileData.byteLength - position, MAX_PAYLOAD_SIZE);\n",
              "      const chunk = new Uint8Array(fileData, position, length);\n",
              "      position += length;\n",
              "\n",
              "      const base64 = btoa(String.fromCharCode.apply(null, chunk));\n",
              "      yield {\n",
              "        response: {\n",
              "          action: 'append',\n",
              "          file: file.name,\n",
              "          data: base64,\n",
              "        },\n",
              "      };\n",
              "\n",
              "      let percentDone = fileData.byteLength === 0 ?\n",
              "          100 :\n",
              "          Math.round((position / fileData.byteLength) * 100);\n",
              "      percent.textContent = `${percentDone}% done`;\n",
              "\n",
              "    } while (position < fileData.byteLength);\n",
              "  }\n",
              "\n",
              "  // All done.\n",
              "  yield {\n",
              "    response: {\n",
              "      action: 'complete',\n",
              "    }\n",
              "  };\n",
              "}\n",
              "\n",
              "scope.google = scope.google || {};\n",
              "scope.google.colab = scope.google.colab || {};\n",
              "scope.google.colab._files = {\n",
              "  _uploadFiles,\n",
              "  _uploadFilesContinue,\n",
              "};\n",
              "})(self);\n",
              "</script> "
            ]
          },
          "metadata": {}
        },
        {
          "output_type": "stream",
          "name": "stdout",
          "text": [
            "Saving poems-100.csv to poems-100.csv\n"
          ]
        }
      ]
    },
    {
      "cell_type": "code",
      "source": [
        "# Read the CSV file\n",
        "df = pd.read_csv(\"poems-100.csv\")\n",
        "\n",
        "# Extract only the poems content\n",
        "poems = df['text'].dropna().tolist()\n",
        "\n",
        "# Convert to lowercase and remove special characters\n",
        "cleaned_poems = [re.sub(r\"[^a-zA-Z\\s]\", \"\", poem.lower()) for poem in poems]\n"
      ],
      "metadata": {
        "id": "XsLw0Phbmtx7"
      },
      "execution_count": 3,
      "outputs": []
    },
    {
      "cell_type": "code",
      "source": [
        "# Tokenization\n",
        "all_words = [word for poem in cleaned_poems for word in poem.split()]\n",
        "vocab = sorted(set(all_words))\n",
        "vocab_size = len(vocab)\n",
        "word_to_idx = {word: i for i, word in enumerate(vocab)}\n",
        "idx_to_word = {i: word for word, i in word_to_idx.items()}\n"
      ],
      "metadata": {
        "id": "799SIGKCm9uo"
      },
      "execution_count": 22,
      "outputs": []
    },
    {
      "cell_type": "code",
      "source": [
        "# One-hot encoding function\n",
        "def one_hot_encode(word_idx, vocab_size):\n",
        "    vec = np.zeros(vocab_size)\n",
        "    vec[word_idx] = 1\n",
        "    return vec"
      ],
      "metadata": {
        "id": "yD2n6fJDnWVm"
      },
      "execution_count": 23,
      "outputs": []
    },
    {
      "cell_type": "code",
      "source": [
        "# Prepare dataset\n",
        "seq_length = 2\n",
        "input_data = []\n",
        "target_data = []\n",
        "for poem in cleaned_poems:\n",
        "    words = poem.split()\n",
        "    for i in range(len(words) - seq_length):\n",
        "        input_data.append([one_hot_encode(word_to_idx[words[j]], vocab_size) for j in range(i, i+seq_length)])\n",
        "        target_data.append(word_to_idx[words[i + seq_length]])\n",
        "\n",
        "X = torch.tensor(input_data, dtype=torch.float32)\n",
        "y = torch.tensor(target_data, dtype=torch.long)"
      ],
      "metadata": {
        "id": "ujZRryHxnYo9"
      },
      "execution_count": 24,
      "outputs": []
    },
    {
      "cell_type": "code",
      "source": [
        "# Define LSTM Model with One-Hot Encoding\n",
        "class LSTMOneHot(nn.Module):\n",
        "    def __init__(self, vocab_size, hidden_size, output_size):\n",
        "        super(LSTMOneHot, self).__init__()\n",
        "        self.hidden_size = hidden_size\n",
        "        self.lstm = nn.LSTM(vocab_size, hidden_size, batch_first=True)\n",
        "        self.fc = nn.Linear(hidden_size, output_size)\n",
        "\n",
        "    def forward(self, x):\n",
        "        out, _ = self.lstm(x)\n",
        "        out = self.fc(out[:, -1, :])\n",
        "        return out\n"
      ],
      "metadata": {
        "id": "cJerCYZFnaZ_"
      },
      "execution_count": 25,
      "outputs": []
    },
    {
      "cell_type": "code",
      "source": [
        "# Initialize model\n",
        "hidden_size = 16\n",
        "model = LSTMOneHot(vocab_size, hidden_size, vocab_size)\n",
        "criterion = nn.CrossEntropyLoss()\n",
        "optimizer = optim.Adam(model.parameters(), lr=0.01)"
      ],
      "metadata": {
        "id": "skBte21MncKQ"
      },
      "execution_count": 26,
      "outputs": []
    },
    {
      "cell_type": "code",
      "source": [
        "# Training loop\n",
        "epochs = 500\n",
        "losses = []\n",
        "accuracies = []\n",
        "\n",
        "for epoch in range(epochs):\n",
        "    optimizer.zero_grad()\n",
        "    output = model(X)\n",
        "    loss = criterion(output, y)\n",
        "    loss.backward()\n",
        "    optimizer.step()\n",
        "    losses.append(loss.item())\n",
        "\n",
        "    # Compute accuracy\n",
        "    _, predicted = torch.max(output, 1)\n",
        "    accuracy = (predicted == y).float().mean().item()\n",
        "    accuracies.append(accuracy)\n",
        "\n",
        "    if (epoch + 1) % 10 == 0:\n",
        "        print(f'Epoch {epoch+1}/{epochs}, Loss: {loss.item():.4f}, Accuracy: {accuracy:.4f}')"
      ],
      "metadata": {
        "colab": {
          "base_uri": "https://localhost:8080/"
        },
        "id": "JHzTFkqtnd90",
        "outputId": "c5f4c7af-1dbb-4132-cc7c-fcae7fc4eee3"
      },
      "execution_count": 27,
      "outputs": [
        {
          "output_type": "stream",
          "name": "stdout",
          "text": [
            "Epoch 10/500, Loss: 8.2314, Accuracy: 0.0019\n",
            "Epoch 20/500, Loss: 7.2306, Accuracy: 0.0037\n",
            "Epoch 30/500, Loss: 6.6897, Accuracy: 0.0728\n",
            "Epoch 40/500, Loss: 6.4802, Accuracy: 0.0728\n",
            "Epoch 50/500, Loss: 6.4076, Accuracy: 0.0728\n",
            "Epoch 60/500, Loss: 6.3085, Accuracy: 0.0738\n",
            "Epoch 70/500, Loss: 6.2111, Accuracy: 0.0731\n",
            "Epoch 80/500, Loss: 6.0897, Accuracy: 0.0734\n",
            "Epoch 90/500, Loss: 5.9319, Accuracy: 0.0754\n",
            "Epoch 100/500, Loss: 5.7347, Accuracy: 0.0888\n",
            "Epoch 110/500, Loss: 5.5033, Accuracy: 0.1122\n",
            "Epoch 120/500, Loss: 5.2425, Accuracy: 0.1381\n",
            "Epoch 130/500, Loss: 4.9616, Accuracy: 0.1681\n",
            "Epoch 140/500, Loss: 4.6779, Accuracy: 0.1988\n",
            "Epoch 150/500, Loss: 4.4050, Accuracy: 0.2357\n",
            "Epoch 160/500, Loss: 4.1498, Accuracy: 0.2720\n",
            "Epoch 170/500, Loss: 3.9150, Accuracy: 0.3078\n",
            "Epoch 180/500, Loss: 3.7015, Accuracy: 0.3442\n",
            "Epoch 190/500, Loss: 3.5086, Accuracy: 0.3780\n",
            "Epoch 200/500, Loss: 3.3351, Accuracy: 0.4037\n",
            "Epoch 210/500, Loss: 3.1791, Accuracy: 0.4308\n",
            "Epoch 220/500, Loss: 3.0392, Accuracy: 0.4525\n",
            "Epoch 230/500, Loss: 2.9133, Accuracy: 0.4727\n",
            "Epoch 240/500, Loss: 2.7998, Accuracy: 0.4905\n",
            "Epoch 250/500, Loss: 2.6973, Accuracy: 0.5069\n",
            "Epoch 260/500, Loss: 2.6042, Accuracy: 0.5218\n",
            "Epoch 270/500, Loss: 2.5195, Accuracy: 0.5336\n",
            "Epoch 280/500, Loss: 2.4421, Accuracy: 0.5454\n",
            "Epoch 290/500, Loss: 2.3711, Accuracy: 0.5557\n",
            "Epoch 300/500, Loss: 2.3058, Accuracy: 0.5649\n",
            "Epoch 310/500, Loss: 2.2455, Accuracy: 0.5744\n",
            "Epoch 320/500, Loss: 2.1896, Accuracy: 0.5823\n",
            "Epoch 330/500, Loss: 2.1377, Accuracy: 0.5899\n",
            "Epoch 340/500, Loss: 2.0893, Accuracy: 0.5965\n",
            "Epoch 350/500, Loss: 2.0441, Accuracy: 0.6045\n",
            "Epoch 360/500, Loss: 2.0017, Accuracy: 0.6110\n",
            "Epoch 370/500, Loss: 1.9618, Accuracy: 0.6155\n",
            "Epoch 380/500, Loss: 1.9243, Accuracy: 0.6215\n",
            "Epoch 390/500, Loss: 1.8889, Accuracy: 0.6258\n",
            "Epoch 400/500, Loss: 1.8553, Accuracy: 0.6303\n",
            "Epoch 410/500, Loss: 1.8235, Accuracy: 0.6347\n",
            "Epoch 420/500, Loss: 1.7933, Accuracy: 0.6398\n",
            "Epoch 430/500, Loss: 1.7646, Accuracy: 0.6441\n",
            "Epoch 440/500, Loss: 1.7373, Accuracy: 0.6469\n",
            "Epoch 450/500, Loss: 1.7112, Accuracy: 0.6510\n",
            "Epoch 460/500, Loss: 1.6862, Accuracy: 0.6553\n",
            "Epoch 470/500, Loss: 1.6624, Accuracy: 0.6588\n",
            "Epoch 480/500, Loss: 1.6396, Accuracy: 0.6620\n",
            "Epoch 490/500, Loss: 1.6177, Accuracy: 0.6644\n",
            "Epoch 500/500, Loss: 1.5968, Accuracy: 0.6667\n"
          ]
        }
      ]
    },
    {
      "cell_type": "code",
      "source": [
        "# Save model weights\n",
        "torch.save(model.state_dict(), \"lstm_one_hot_weights.pth\")\n",
        "print(\"Model weights saved as lstm_one_hot_weights.pth\")"
      ],
      "metadata": {
        "colab": {
          "base_uri": "https://localhost:8080/"
        },
        "id": "t9cmZwlFnf3p",
        "outputId": "d1e55e2b-3e1d-46cf-b2b3-dedca9c069e5"
      },
      "execution_count": 28,
      "outputs": [
        {
          "output_type": "stream",
          "name": "stdout",
          "text": [
            "Model weights saved as lstm_one_hot_weights.pth\n"
          ]
        }
      ]
    },
    {
      "cell_type": "code",
      "source": [
        "# Plot Loss and Accuracy\n",
        "import matplotlib.pyplot as plt\n",
        "\n",
        "plt.figure(figsize=(12, 5))\n",
        "plt.subplot(1, 2, 1)\n",
        "plt.plot(losses, label='Loss', color='red')\n",
        "plt.xlabel('Epochs')\n",
        "plt.ylabel('Loss')\n",
        "plt.title('Training Loss')\n",
        "plt.legend()\n",
        "\n",
        "plt.subplot(1, 2, 2)\n",
        "plt.plot(accuracies, label='Accuracy', color='blue')\n",
        "plt.xlabel('Epochs')\n",
        "plt.ylabel('Accuracy')\n",
        "plt.title('Training Accuracy')\n",
        "plt.legend()\n",
        "\n",
        "plt.show()\n"
      ],
      "metadata": {
        "colab": {
          "base_uri": "https://localhost:8080/",
          "height": 487
        },
        "id": "go2_cTkFpewB",
        "outputId": "3253558a-7ef1-40c7-e443-82efe3de373a"
      },
      "execution_count": 29,
      "outputs": [
        {
          "output_type": "display_data",
          "data": {
            "text/plain": [
              "<Figure size 1200x500 with 2 Axes>"
            ],
            "image/png": "[encoded data removed]"
          },
          "metadata": {}
        }
      ]
    },
    {
      "cell_type": "code",
      "source": [
        "# Generate text\n",
        "def generate_text(start_word, length=5):\n",
        "    model.eval()\n",
        "    words = [start_word]\n",
        "    for _ in range(length):\n",
        "        input_seq = torch.tensor([one_hot_encode(word_to_idx[words[-1]], vocab_size)], dtype=torch.float32).unsqueeze(0)\n",
        "        with torch.no_grad():\n",
        "            output = model(input_seq)\n",
        "            next_word = idx_to_word[torch.argmax(output).item()]\n",
        "        words.append(next_word)\n",
        "    return ' '.join(words)\n",
        "\n",
        "print(\"Generated Text:\", generate_text(\"love\"))\n"
      ],
      "metadata": {
        "colab": {
          "base_uri": "https://localhost:8080/"
        },
        "id": "MHTWVk_3pxQh",
        "outputId": "4ed76610-b2c9-4bdf-8568-d40fc255dc2d"
      },
      "execution_count": 30,
      "outputs": [
        {
          "output_type": "stream",
          "name": "stdout",
          "text": [
            "Generated Text: love oh was proved left shall\n"
          ]
        }
      ]
    },
    {
      "cell_type": "code",
      "source": [],
      "metadata": {
        "id": "8gLntjdWpzKZ"
      },
      "execution_count": null,
      "outputs": []
    }
  ]
}