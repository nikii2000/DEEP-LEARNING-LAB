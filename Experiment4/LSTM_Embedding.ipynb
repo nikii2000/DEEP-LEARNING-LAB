{
  "nbformat": 4,
  "nbformat_minor": 0,
  "metadata": {
    "colab": {
      "provenance": [],
      "gpuType": "V28"
    },
    "kernelspec": {
      "name": "python3",
      "display_name": "Python 3"
    },
    "language_info": {
      "name": "python"
    },
    "accelerator": "TPU"
  },
  "cells": [
    {
      "cell_type": "code",
      "execution_count": 19,
      "metadata": {
        "id": "dlBGSO3isAkh"
      },
      "outputs": [],
      "source": [
        "import torch\n",
        "import torch.nn as nn\n",
        "import torch.optim as optim\n",
        "import numpy as np\n",
        "import pandas as pd\n",
        "import re\n",
        "import matplotlib.pyplot as plt\n",
        "from collections import Counter\n",
        "from google.colab import files"
      ]
    },
    {
      "cell_type": "code",
      "source": [
        "drive.mount('/content/drive')\n",
        "\n",
        "# Read CSV\n",
        "df = pd.read_csv('/content/poems-100.csv')"
      ],
      "metadata": {
        "colab": {
          "base_uri": "https://localhost:8080/"
        },
        "id": "djya1_I7sI9U",
        "outputId": "8b20384d-a3af-4df1-bc94-f357c4c5c41c"
      },
      "execution_count": 20,
      "outputs": [
        {
          "output_type": "stream",
          "name": "stdout",
          "text": [
            "Drive already mounted at /content/drive; to attempt to forcibly remount, call drive.mount(\"/content/drive\", force_remount=True).\n"
          ]
        }
      ]
    },
    {
      "cell_type": "code",
      "source": [
        "df.head()"
      ],
      "metadata": {
        "id": "jeHSU41dsLDS",
        "colab": {
          "base_uri": "https://localhost:8080/",
          "height": 204
        },
        "outputId": "134d4b02-c8fc-4972-ecae-c243f13051c1"
      },
      "execution_count": 21,
      "outputs": [
        {
          "output_type": "execute_result",
          "data": {
            "text/plain": [
              "                                                text\n",
              "0  O my Luve's like a red, red rose\\nThat’s newly...\n",
              "1  The rose is red,\\nThe violet's blue,\\nSugar is...\n",
              "2  How do I love thee? Let me count the ways.\\nI ...\n",
              "3  Had I the heavens' embroidered cloths,\\nEnwrou...\n",
              "4  I.\\n    Enough! we're tired, my heart and I.\\n..."
            ],
            "text/html": [
              "\n",
              "  <div id=\"df-167d522f-93e6-4f7c-8ce7-b9c578ad6661\" class=\"colab-df-container\">\n",
              "    <div>\n",
              "<style scoped>\n",
              "    .dataframe tbody tr th:only-of-type {\n",
              "        vertical-align: middle;\n",
              "    }\n",
              "\n",
              "    .dataframe tbody tr th {\n",
              "        vertical-align: top;\n",
              "    }\n",
              "\n",
              "    .dataframe thead th {\n",
              "        text-align: right;\n",
              "    }\n",
              "</style>\n",
              "<table border=\"1\" class=\"dataframe\">\n",
              "  <thead>\n",
              "    <tr style=\"text-align: right;\">\n",
              "      <th></th>\n",
              "      <th>text</th>\n",
              "    </tr>\n",
              "  </thead>\n",
              "  <tbody>\n",
              "    <tr>\n",
              "      <th>0</th>\n",
              "      <td>O my Luve's like a red, red rose\\nThat’s newly...</td>\n",
              "    </tr>\n",
              "    <tr>\n",
              "      <th>1</th>\n",
              "      <td>The rose is red,\\nThe violet's blue,\\nSugar is...</td>\n",
              "    </tr>\n",
              "    <tr>\n",
              "      <th>2</th>\n",
              "      <td>How do I love thee? Let me count the ways.\\nI ...</td>\n",
              "    </tr>\n",
              "    <tr>\n",
              "      <th>3</th>\n",
              "      <td>Had I the heavens' embroidered cloths,\\nEnwrou...</td>\n",
              "    </tr>\n",
              "    <tr>\n",
              "      <th>4</th>\n",
              "      <td>I.\\n    Enough! we're tired, my heart and I.\\n...</td>\n",
              "    </tr>\n",
              "  </tbody>\n",
              "</table>\n",
              "</div>\n",
              "    <div class=\"colab-df-buttons\">\n",
              "\n",
              "  <div class=\"colab-df-container\">\n",
              "    <button class=\"colab-df-convert\" onclick=\"convertToInteractive('df-167d522f-93e6-4f7c-8ce7-b9c578ad6661')\"\n",
              "            title=\"Convert this dataframe to an interactive table.\"\n",
              "            style=\"display:none;\">\n",
              "\n",
              "  <svg xmlns=\"http://www.w3.org/2000/svg\" height=\"24px\" viewBox=\"0 -960 960 960\">\n",
              "    <path d=\"M120-120v-720h720v720H120Zm60-500h600v-160H180v160Zm220 220h160v-160H400v160Zm0 220h160v-160H400v160ZM180-400h160v-160H180v160Zm440 0h160v-160H620v160ZM180-180h160v-160H180v160Zm440 0h160v-160H620v160Z\"/>\n",
              "  </svg>\n",
              "    </button>\n",
              "\n",
              "  <style>\n",
              "    .colab-df-container {\n",
              "      display:flex;\n",
              "      gap: 12px;\n",
              "    }\n",
              "\n",
              "    .colab-df-convert {\n",
              "      background-color: #E8F0FE;\n",
              "      border: none;\n",
              "      border-radius: 50%;\n",
              "      cursor: pointer;\n",
              "      display: none;\n",
              "      fill: #1967D2;\n",
              "      height: 32px;\n",
              "      padding: 0 0 0 0;\n",
              "      width: 32px;\n",
              "    }\n",
              "\n",
              "    .colab-df-convert:hover {\n",
              "      background-color: #E2EBFA;\n",
              "      box-shadow: 0px 1px 2px rgba(60, 64, 67, 0.3), 0px 1px 3px 1px rgba(60, 64, 67, 0.15);\n",
              "      fill: #174EA6;\n",
              "    }\n",
              "\n",
              "    .colab-df-buttons div {\n",
              "      margin-bottom: 4px;\n",
              "    }\n",
              "\n",
              "    [theme=dark] .colab-df-convert {\n",
              "      background-color: #3B4455;\n",
              "      fill: #D2E3FC;\n",
              "    }\n",
              "\n",
              "    [theme=dark] .colab-df-convert:hover {\n",
              "      background-color: #434B5C;\n",
              "      box-shadow: 0px 1px 3px 1px rgba(0, 0, 0, 0.15);\n",
              "      filter: drop-shadow(0px 1px 2px rgba(0, 0, 0, 0.3));\n",
              "      fill: #FFFFFF;\n",
              "    }\n",
              "  </style>\n",
              "\n",
              "    <script>\n",
              "      const buttonEl =\n",
              "        document.querySelector('#df-167d522f-93e6-4f7c-8ce7-b9c578ad6661 button.colab-df-convert');\n",
              "      buttonEl.style.display =\n",
              "        google.colab.kernel.accessAllowed ? 'block' : 'none';\n",
              "\n",
              "      async function convertToInteractive(key) {\n",
              "        const element = document.querySelector('#df-167d522f-93e6-4f7c-8ce7-b9c578ad6661');\n",
              "        const dataTable =\n",
              "          await google.colab.kernel.invokeFunction('convertToInteractive',\n",
              "                                                    [key], {});\n",
              "        if (!dataTable) return;\n",
              "\n",
              "        const docLinkHtml = 'Like what you see? Visit the ' +\n",
              "          '<a target=\"_blank\" href=https://colab.research.google.com/notebooks/data_table.ipynb>data table notebook</a>'\n",
              "          + ' to learn more about interactive tables.';\n",
              "        element.innerHTML = '';\n",
              "        dataTable['output_type'] = 'display_data';\n",
              "        await google.colab.output.renderOutput(dataTable, element);\n",
              "        const docLink = document.createElement('div');\n",
              "        docLink.innerHTML = docLinkHtml;\n",
              "        element.appendChild(docLink);\n",
              "      }\n",
              "    </script>\n",
              "  </div>\n",
              "\n",
              "\n",
              "<div id=\"df-d16e64f1-a4d1-4338-ab80-235d26c92558\">\n",
              "  <button class=\"colab-df-quickchart\" onclick=\"quickchart('df-d16e64f1-a4d1-4338-ab80-235d26c92558')\"\n",
              "            title=\"Suggest charts\"\n",
              "            style=\"display:none;\">\n",
              "\n",
              "<svg xmlns=\"http://www.w3.org/2000/svg\" height=\"24px\"viewBox=\"0 0 24 24\"\n",
              "     width=\"24px\">\n",
              "    <g>\n",
              "        <path d=\"M19 3H5c-1.1 0-2 .9-2 2v14c0 1.1.9 2 2 2h14c1.1 0 2-.9 2-2V5c0-1.1-.9-2-2-2zM9 17H7v-7h2v7zm4 0h-2V7h2v10zm4 0h-2v-4h2v4z\"/>\n",
              "    </g>\n",
              "</svg>\n",
              "  </button>\n",
              "\n",
              "<style>\n",
              "  .colab-df-quickchart {\n",
              "      --bg-color: #E8F0FE;\n",
              "      --fill-color: #1967D2;\n",
              "      --hover-bg-color: #E2EBFA;\n",
              "      --hover-fill-color: #174EA6;\n",
              "      --disabled-fill-color: #AAA;\n",
              "      --disabled-bg-color: #DDD;\n",
              "  }\n",
              "\n",
              "  [theme=dark] .colab-df-quickchart {\n",
              "      --bg-color: #3B4455;\n",
              "      --fill-color: #D2E3FC;\n",
              "      --hover-bg-color: #434B5C;\n",
              "      --hover-fill-color: #FFFFFF;\n",
              "      --disabled-bg-color: #3B4455;\n",
              "      --disabled-fill-color: #666;\n",
              "  }\n",
              "\n",
              "  .colab-df-quickchart {\n",
              "    background-color: var(--bg-color);\n",
              "    border: none;\n",
              "    border-radius: 50%;\n",
              "    cursor: pointer;\n",
              "    display: none;\n",
              "    fill: var(--fill-color);\n",
              "    height: 32px;\n",
              "    padding: 0;\n",
              "    width: 32px;\n",
              "  }\n",
              "\n",
              "  .colab-df-quickchart:hover {\n",
              "    background-color: var(--hover-bg-color);\n",
              "    box-shadow: 0 1px 2px rgba(60, 64, 67, 0.3), 0 1px 3px 1px rgba(60, 64, 67, 0.15);\n",
              "    fill: var(--button-hover-fill-color);\n",
              "  }\n",
              "\n",
              "  .colab-df-quickchart-complete:disabled,\n",
              "  .colab-df-quickchart-complete:disabled:hover {\n",
              "    background-color: var(--disabled-bg-color);\n",
              "    fill: var(--disabled-fill-color);\n",
              "    box-shadow: none;\n",
              "  }\n",
              "\n",
              "  .colab-df-spinner {\n",
              "    border: 2px solid var(--fill-color);\n",
              "    border-color: transparent;\n",
              "    border-bottom-color: var(--fill-color);\n",
              "    animation:\n",
              "      spin 1s steps(1) infinite;\n",
              "  }\n",
              "\n",
              "  @keyframes spin {\n",
              "    0% {\n",
              "      border-color: transparent;\n",
              "      border-bottom-color: var(--fill-color);\n",
              "      border-left-color: var(--fill-color);\n",
              "    }\n",
              "    20% {\n",
              "      border-color: transparent;\n",
              "      border-left-color: var(--fill-color);\n",
              "      border-top-color: var(--fill-color);\n",
              "    }\n",
              "    30% {\n",
              "      border-color: transparent;\n",
              "      border-left-color: var(--fill-color);\n",
              "      border-top-color: var(--fill-color);\n",
              "      border-right-color: var(--fill-color);\n",
              "    }\n",
              "    40% {\n",
              "      border-color: transparent;\n",
              "      border-right-color: var(--fill-color);\n",
              "      border-top-color: var(--fill-color);\n",
              "    }\n",
              "    60% {\n",
              "      border-color: transparent;\n",
              "      border-right-color: var(--fill-color);\n",
              "    }\n",
              "    80% {\n",
              "      border-color: transparent;\n",
              "      border-right-color: var(--fill-color);\n",
              "      border-bottom-color: var(--fill-color);\n",
              "    }\n",
              "    90% {\n",
              "      border-color: transparent;\n",
              "      border-bottom-color: var(--fill-color);\n",
              "    }\n",
              "  }\n",
              "</style>\n",
              "\n",
              "  <script>\n",
              "    async function quickchart(key) {\n",
              "      const quickchartButtonEl =\n",
              "        document.querySelector('#' + key + ' button');\n",
              "      quickchartButtonEl.disabled = true;  // To prevent multiple clicks.\n",
              "      quickchartButtonEl.classList.add('colab-df-spinner');\n",
              "      try {\n",
              "        const charts = await google.colab.kernel.invokeFunction(\n",
              "            'suggestCharts', [key], {});\n",
              "      } catch (error) {\n",
              "        console.error('Error during call to suggestCharts:', error);\n",
              "      }\n",
              "      quickchartButtonEl.classList.remove('colab-df-spinner');\n",
              "      quickchartButtonEl.classList.add('colab-df-quickchart-complete');\n",
              "    }\n",
              "    (() => {\n",
              "      let quickchartButtonEl =\n",
              "        document.querySelector('#df-d16e64f1-a4d1-4338-ab80-235d26c92558 button');\n",
              "      quickchartButtonEl.style.display =\n",
              "        google.colab.kernel.accessAllowed ? 'block' : 'none';\n",
              "    })();\n",
              "  </script>\n",
              "</div>\n",
              "\n",
              "    </div>\n",
              "  </div>\n"
            ],
            "application/vnd.google.colaboratory.intrinsic+json": {
              "type": "dataframe",
              "variable_name": "df",
              "summary": "{\n  \"name\": \"df\",\n  \"rows\": 100,\n  \"fields\": [\n    {\n      \"column\": \"text\",\n      \"properties\": {\n        \"dtype\": \"string\",\n        \"num_unique_values\": 100,\n        \"samples\": [\n          \"Three little birds in a row\\nSat musing.\\nA man passed near that place.\\nThen did the little birds nudge each other.\\n\\nThey said, \\\"He thinks he can sing.\\\"\\nThey threw back their heads to laugh.\\nWith quaint countenances\\nThey regarded him.\\nThey were very curious,\\nThose three little birds in a row.\",\n          \"  I think I could turn and live with animals, they are so placid and\\n      self-contain'd,\\n  I stand and look at them long and long.\\n\\n  They do not sweat and whine about their condition,\\n  They do not lie awake in the dark and weep for their sins,\\n  They do not make me sick discussing their duty to God,\\n  Not one is dissatisfied, not one is demented with the mania of\\n      owning things,\\n  Not one kneels to another, nor to his kind that lived thousands of\\n      years ago,\\n  Not one is respectable or unhappy over the whole earth.\\n\\n  So they show their relations to me and I accept them,\\n  They bring me tokens of myself, they evince them plainly in their\\n      possession.\\n\\n  I wonder where they get those tokens,\\n  Did I pass that way huge times ago and negligently drop them?\\n\\n  Myself moving forward then and now and forever,\\n  Gathering and showing more always and with velocity,\\n  Infinite and omnigenous, and the like of these among them,\\n  Not too exclusive toward the reachers of my remembrancers,\\n  Picking out here one that I love, and now go with him on brotherly terms.\\n\\n  A gigantic beauty of a stallion, fresh and responsive to my caresses,\\n  Head high in the forehead, wide between the ears,\\n  Limbs glossy and supple, tail dusting the ground,\\n  Eyes full of sparkling wickedness, ears finely cut, flexibly moving.\\n\\n  His nostrils dilate as my heels embrace him,\\n  His well-built limbs tremble with pleasure as we race around and return.\\n\\n  I but use you a minute, then I resign you, stallion,\\n  Why do I need your paces when I myself out-gallop them?\\n  Even as I stand or sit passing faster than you.\",\n          \"  And as to you Death, and you bitter hug of mortality, it is idle to\\n      try to alarm me.\\n\\n  To his work without flinching the accoucheur comes,\\n  I see the elder-hand pressing receiving supporting,\\n  I recline by the sills of the exquisite flexible doors,\\n  And mark the outlet, and mark the relief and escape.\\n\\n  And as to you Corpse I think you are good manure, but that does not\\n      offend me,\\n  I smell the white roses sweet-scented and growing,\\n  I reach to the leafy lips, I reach to the polish'd breasts of melons.\\n\\n  And as to you Life I reckon you are the leavings of many deaths,\\n  (No doubt I have died myself ten thousand times before.)\\n\\n  I hear you whispering there O stars of heaven,\\n  O suns\\u2014O grass of graves\\u2014O perpetual transfers and promotions,\\n  If you do not say any thing how can I say any thing?\\n\\n  Of the turbid pool that lies in the autumn forest,\\n  Of the moon that descends the steeps of the soughing twilight,\\n  Toss, sparkles of day and dusk\\u2014toss on the black stems that decay\\n      in the muck,\\n  Toss to the moaning gibberish of the dry limbs.\\n\\n  I ascend from the moon, I ascend from the night,\\n  I perceive that the ghastly glimmer is noonday sunbeams reflected,\\n  And debouch to the steady and central from the offspring great or small.\"\n        ],\n        \"semantic_type\": \"\",\n        \"description\": \"\"\n      }\n    }\n  ]\n}"
            }
          },
          "metadata": {},
          "execution_count": 21
        }
      ]
    },
    {
      "cell_type": "code",
      "source": [
        "\n",
        "# Extract only the poems content\n",
        "poems = df['text'].dropna().tolist()\n",
        "\n",
        "# Convert to lowercase and remove special characters\n",
        "cleaned_poems = [re.sub(r\"[^a-zA-Z\\s]\", \"\", poem.lower()) for poem in poems]"
      ],
      "metadata": {
        "id": "Yn1jrOsNtT5w"
      },
      "execution_count": 22,
      "outputs": []
    },
    {
      "cell_type": "code",
      "source": [
        "# Tokenization\n",
        "all_words = [word for poem in cleaned_poems for word in poem.split()]\n",
        "vocab = sorted(set(all_words))\n",
        "vocab_size = len(vocab)\n",
        "word_to_idx = {word: i for i, word in enumerate(vocab)}\n",
        "idx_to_word = {i: word for word, i in word_to_idx.items()}\n"
      ],
      "metadata": {
        "id": "M9e8SYlwtWY7"
      },
      "execution_count": 23,
      "outputs": []
    },
    {
      "cell_type": "code",
      "source": [
        "# Prepare dataset\n",
        "seq_length = 2\n",
        "input_data = []\n",
        "target_data = []\n",
        "for poem in cleaned_poems:\n",
        "    words = poem.split()\n",
        "    for i in range(len(words) - seq_length):\n",
        "        input_data.append([word_to_idx[words[j]] for j in range(i, i+seq_length)])\n",
        "        target_data.append(word_to_idx[words[i + seq_length]])\n",
        "\n",
        "X = torch.tensor(input_data, dtype=torch.long)\n",
        "y = torch.tensor(target_data, dtype=torch.long)"
      ],
      "metadata": {
        "id": "SSkZB4VZtYkM"
      },
      "execution_count": 24,
      "outputs": []
    },
    {
      "cell_type": "code",
      "source": [
        "# Define LSTM Model with Embeddings\n",
        "class LSTMWithEmbeddings(nn.Module):\n",
        "    def __init__(self, vocab_size, embed_size, hidden_size, output_size):\n",
        "        super(LSTMWithEmbeddings, self).__init__()\n",
        "        self.embedding = nn.Embedding(vocab_size, embed_size)\n",
        "        self.lstm = nn.LSTM(embed_size, hidden_size, batch_first=True)\n",
        "        self.fc = nn.Linear(hidden_size, output_size)\n",
        "\n",
        "    def forward(self, x):\n",
        "        x = self.embedding(x)\n",
        "        out, _ = self.lstm(x)\n",
        "        out = self.fc(out[:, -1, :])\n",
        "        return out\n"
      ],
      "metadata": {
        "id": "zIC38OZGtZ9H"
      },
      "execution_count": 25,
      "outputs": []
    },
    {
      "cell_type": "code",
      "source": [
        "# Initialize model\n",
        "embed_size = 16\n",
        "hidden_size = 16\n",
        "model = LSTMWithEmbeddings(vocab_size, embed_size, hidden_size, vocab_size)\n",
        "criterion = nn.CrossEntropyLoss()\n",
        "optimizer = optim.Adam(model.parameters(), lr=0.01)"
      ],
      "metadata": {
        "id": "jVw6H4LVtbnB"
      },
      "execution_count": 26,
      "outputs": []
    },
    {
      "cell_type": "code",
      "source": [
        "# Training loop\n",
        "epochs = 500\n",
        "losses = []\n",
        "accuracies = []\n",
        "\n",
        "for epoch in range(epochs):\n",
        "    optimizer.zero_grad()\n",
        "    output = model(X)\n",
        "    loss = criterion(output, y)\n",
        "    loss.backward()\n",
        "    optimizer.step()\n",
        "    losses.append(loss.item())\n",
        "\n",
        "    # Compute accuracy\n",
        "    _, predicted = torch.max(output, 1)\n",
        "    accuracy = (predicted == y).float().mean().item()\n",
        "    accuracies.append(accuracy)\n",
        "\n",
        "    if (epoch + 1) % 100 == 0:\n",
        "        print(f'Epoch {epoch+1}/{epochs}, Loss: {loss.item():.4f}, Accuracy: {accuracy:.4f}')\n"
      ],
      "metadata": {
        "colab": {
          "base_uri": "https://localhost:8080/"
        },
        "id": "MCS3a8sgtdD5",
        "outputId": "7208c6d5-ab59-4077-fe40-ecebbe4dbdbc"
      },
      "execution_count": 27,
      "outputs": [
        {
          "output_type": "stream",
          "name": "stdout",
          "text": [
            "Epoch 100/500, Loss: 5.3216, Accuracy: 0.1097\n",
            "Epoch 200/500, Loss: 3.9247, Accuracy: 0.2603\n",
            "Epoch 300/500, Loss: 3.1576, Accuracy: 0.3916\n",
            "Epoch 400/500, Loss: 2.7787, Accuracy: 0.4549\n",
            "Epoch 500/500, Loss: 2.5610, Accuracy: 0.4903\n"
          ]
        }
      ]
    },
    {
      "cell_type": "code",
      "source": [
        "# Save model weights\n",
        "torch.save(model.state_dict(), \"lstm_embeddings_weights.pth\")\n",
        "print(\"Model weights saved as lstm_embeddings_weights.pth\")"
      ],
      "metadata": {
        "colab": {
          "base_uri": "https://localhost:8080/"
        },
        "id": "yxR2bGA0tfrO",
        "outputId": "00a97fac-8f66-4753-c06f-482fab46d874"
      },
      "execution_count": 28,
      "outputs": [
        {
          "output_type": "stream",
          "name": "stdout",
          "text": [
            "Model weights saved as lstm_embeddings_weights.pth\n"
          ]
        }
      ]
    },
    {
      "cell_type": "code",
      "source": [
        "# Plot Loss and Accuracy\n",
        "import matplotlib.pyplot as plt\n",
        "\n",
        "plt.figure(figsize=(12, 5))\n",
        "plt.subplot(1, 2, 1)\n",
        "plt.plot(losses, label='Loss', color='red')\n",
        "plt.xlabel('Epochs')\n",
        "plt.ylabel('Loss')\n",
        "plt.title('Training Loss')\n",
        "plt.legend()\n",
        "\n",
        "plt.subplot(1, 2, 2)\n",
        "plt.plot(accuracies, label='Accuracy', color='blue')\n",
        "plt.xlabel('Epochs')\n",
        "plt.ylabel('Accuracy')\n",
        "plt.title('Training Accuracy')\n",
        "plt.legend()\n",
        "\n",
        "plt.show()\n"
      ],
      "metadata": {
        "colab": {
          "base_uri": "https://localhost:8080/",
          "height": 487
        },
        "id": "xcVQfJaxtj4Z",
        "outputId": "d8953ecc-5dee-43d4-f00e-1bd93693abb3"
      },
      "execution_count": 29,
      "outputs": [
        {
          "output_type": "display_data",
          "data": {
            "text/plain": [
              "<Figure size 1200x500 with 2 Axes>"
            ],
            "image/png": "[encoded data removed]"
          },
          "metadata": {}
        }
      ]
    },
    {
      "cell_type": "code",
      "source": [
        "# Generate text\n",
        "def generate_text(start_word, length=5):\n",
        "    model.eval()\n",
        "    words = [start_word]\n",
        "    for _ in range(length):\n",
        "        input_seq = torch.tensor([[word_to_idx[words[-1]]]], dtype=torch.long)\n",
        "        with torch.no_grad():\n",
        "            output = model(input_seq)\n",
        "            next_word = idx_to_word[torch.argmax(output).item()]\n",
        "        words.append(next_word)\n",
        "    return ' '.join(words)\n",
        "\n",
        "print(\"Generated Text:\", generate_text(\"love\"))"
      ],
      "metadata": {
        "colab": {
          "base_uri": "https://localhost:8080/"
        },
        "id": "xtJgg17ytmTI",
        "outputId": "d346cce8-7e66-46aa-ef46-88759aab4ebe"
      },
      "execution_count": 30,
      "outputs": [
        {
          "output_type": "stream",
          "name": "stdout",
          "text": [
            "Generated Text: love too and shade space outside\n"
          ]
        }
      ]
    },
    {
      "cell_type": "code",
      "source": [],
      "metadata": {
        "id": "ZVQ2Q5_ytn6y"
      },
      "execution_count": null,
      "outputs": []
    }
  ]
}